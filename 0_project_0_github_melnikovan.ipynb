{
 "cells": [
  {
   "cell_type": "code",
   "execution_count": 11,
   "metadata": {},
   "outputs": [
    {
     "data": {
      "text/plain": [
       "'Ваш алгоритм угадывает число в среднем за 5 попыток'"
      ]
     },
     "execution_count": 11,
     "metadata": {},
     "output_type": "execute_result"
    }
   ],
   "source": [
    "import numpy as np\n",
    "\n",
    "def NinasGame(number):\n",
    "        \n",
    "    count = 0                                              # счетчик попыток\n",
    "    number = np.random.randint(1,101)                      # загадали число\n",
    "    \n",
    "    while True:                                            # бесконечный цикл\n",
    "        low = 1                                            # определение наименьшего числа диапазона поиска\n",
    "        high = 100                                         # определение наибольшего числа диапазона поиска\n",
    "        guess = 50                                         # сокращение диапазона поиска вдвое\n",
    "        while guess != number:          \n",
    "            count+=1                                       # учет попытки угадывания\n",
    "            guess = (low+high)//2                          # сокращение диапазона поиска вдвое с учетом сделанной попытки\n",
    "            if guess > number:                             # предполагаемое число больше загаданного числа\n",
    "                high = guess                               # сужение верхнего диапазона\n",
    "            elif guess < number:                           # предполагаемое число меньше загаданного числа\n",
    "                low = guess+1                              # сужение нижнего диапазона\n",
    "        return (count)                                     # возврат итогового значения количества попыток угадывания\n",
    "        break                                              # прерывание цикла\n",
    "    else: \n",
    "        computer_guess(number)\n",
    "    NinasGame(number)\n",
    "\n",
    "def game_score (NinasGame):                                # Статистика среднего кол-ва попыток нужных для угадывания числа\n",
    "    count_ls = []                                          # Создание счетчика\n",
    "    np.random.seed(1)                                      # фиксируем RANDOM SEED, чтобы эксперимент был воспроизведен 1000 раз \n",
    "    random_array = np.random.randint(1,101, size=(1000))\n",
    "    for number in random_array:\n",
    "        count_ls.append(NinasGame(number))                 # заполняем массив данными, полученными по каждому эксперименту\n",
    "    score = int(np.mean(count_ls))                         # расчет среднего значения массива (с округлением до целого)\n",
    "    return(f\"Ваш алгоритм угадывает число в среднем за {score} попыток\") \n",
    "    \n",
    "game_score (NinasGame)"
   ]
  },
  {
   "cell_type": "code",
   "execution_count": null,
   "metadata": {},
   "outputs": [],
   "source": []
  }
 ],
 "metadata": {
  "kernelspec": {
   "display_name": "Python 3",
   "language": "python",
   "name": "python3"
  },
  "language_info": {
   "codemirror_mode": {
    "name": "ipython",
    "version": 3
   },
   "file_extension": ".py",
   "mimetype": "text/x-python",
   "name": "python",
   "nbconvert_exporter": "python",
   "pygments_lexer": "ipython3",
   "version": "3.8.5"
  }
 },
 "nbformat": 4,
 "nbformat_minor": 4
}
